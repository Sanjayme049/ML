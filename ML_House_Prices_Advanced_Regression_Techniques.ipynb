{
  "nbformat": 4,
  "nbformat_minor": 0,
  "metadata": {
    "colab": {
      "provenance": [],
      "authorship_tag": "ABX9TyMxetsUqsKcR8CxGo05RbKE",
      "include_colab_link": true
    },
    "kernelspec": {
      "name": "python3",
      "display_name": "Python 3"
    },
    "language_info": {
      "name": "python"
    }
  },
  "cells": [
    {
      "cell_type": "markdown",
      "metadata": {
        "id": "view-in-github",
        "colab_type": "text"
      },
      "source": [
        "<a href=\"https://colab.research.google.com/github/Sanjayme049/ML/blob/main/ML_House_Prices_Advanced_Regression_Techniques.ipynb\" target=\"_parent\"><img src=\"https://colab.research.google.com/assets/colab-badge.svg\" alt=\"Open In Colab\"/></a>"
      ]
    },
    {
      "cell_type": "code",
      "execution_count": null,
      "metadata": {
        "id": "QYW3fm6X5Moy"
      },
      "outputs": [],
      "source": [
        "from google.colab import drive\n",
        "drive.mount(\"/content/gdrive\")"
      ]
    },
    {
      "cell_type": "code",
      "source": [
        "import pandas as pd\n",
        "data_train = pd.read_csv('/content/gdrive/My Drive/ML/ML_House Prices - Advanced Regression Techniques/train.csv')\n",
        "data_test = pd.read_csv('/content/gdrive/My Drive/ML/ML_House Prices - Advanced Regression Techniques/test.csv')"
      ],
      "metadata": {
        "id": "8T5-1i1Q56BX"
      },
      "execution_count": 64,
      "outputs": []
    },
    {
      "cell_type": "code",
      "source": [
        "pd.set_option('display.max_columns',500)\n",
        "pd.set_option('display.max_rows',500)"
      ],
      "metadata": {
        "id": "x44Lez_2_CjN"
      },
      "execution_count": 68,
      "outputs": []
    },
    {
      "cell_type": "code",
      "source": [
        "data_train.isnull().sum()/len(data_train)"
      ],
      "metadata": {
        "colab": {
          "base_uri": "https://localhost:8080/"
        },
        "id": "9xhY0mK578Bi",
        "outputId": "a9b1fbe9-0f7a-4a96-ffd0-cd433cd8014b"
      },
      "execution_count": 69,
      "outputs": [
        {
          "output_type": "execute_result",
          "data": {
            "text/plain": [
              "Id               0.000000\n",
              "MSSubClass       0.000000\n",
              "MSZoning         0.000000\n",
              "LotFrontage      0.177397\n",
              "LotArea          0.000000\n",
              "Street           0.000000\n",
              "Alley            0.937671\n",
              "LotShape         0.000000\n",
              "LandContour      0.000000\n",
              "Utilities        0.000000\n",
              "LotConfig        0.000000\n",
              "LandSlope        0.000000\n",
              "Neighborhood     0.000000\n",
              "Condition1       0.000000\n",
              "Condition2       0.000000\n",
              "BldgType         0.000000\n",
              "HouseStyle       0.000000\n",
              "OverallQual      0.000000\n",
              "OverallCond      0.000000\n",
              "YearBuilt        0.000000\n",
              "YearRemodAdd     0.000000\n",
              "RoofStyle        0.000000\n",
              "RoofMatl         0.000000\n",
              "Exterior1st      0.000000\n",
              "Exterior2nd      0.000000\n",
              "MasVnrType       0.005479\n",
              "MasVnrArea       0.005479\n",
              "ExterQual        0.000000\n",
              "ExterCond        0.000000\n",
              "Foundation       0.000000\n",
              "BsmtQual         0.025342\n",
              "BsmtCond         0.025342\n",
              "BsmtExposure     0.026027\n",
              "BsmtFinType1     0.025342\n",
              "BsmtFinSF1       0.000000\n",
              "BsmtFinType2     0.026027\n",
              "BsmtFinSF2       0.000000\n",
              "BsmtUnfSF        0.000000\n",
              "TotalBsmtSF      0.000000\n",
              "Heating          0.000000\n",
              "HeatingQC        0.000000\n",
              "CentralAir       0.000000\n",
              "Electrical       0.000685\n",
              "1stFlrSF         0.000000\n",
              "2ndFlrSF         0.000000\n",
              "LowQualFinSF     0.000000\n",
              "GrLivArea        0.000000\n",
              "BsmtFullBath     0.000000\n",
              "BsmtHalfBath     0.000000\n",
              "FullBath         0.000000\n",
              "HalfBath         0.000000\n",
              "BedroomAbvGr     0.000000\n",
              "KitchenAbvGr     0.000000\n",
              "KitchenQual      0.000000\n",
              "TotRmsAbvGrd     0.000000\n",
              "Functional       0.000000\n",
              "Fireplaces       0.000000\n",
              "FireplaceQu      0.472603\n",
              "GarageType       0.055479\n",
              "GarageYrBlt      0.055479\n",
              "GarageFinish     0.055479\n",
              "GarageCars       0.000000\n",
              "GarageArea       0.000000\n",
              "GarageQual       0.055479\n",
              "GarageCond       0.055479\n",
              "PavedDrive       0.000000\n",
              "WoodDeckSF       0.000000\n",
              "OpenPorchSF      0.000000\n",
              "EnclosedPorch    0.000000\n",
              "3SsnPorch        0.000000\n",
              "ScreenPorch      0.000000\n",
              "PoolArea         0.000000\n",
              "PoolQC           0.995205\n",
              "Fence            0.807534\n",
              "MiscFeature      0.963014\n",
              "MiscVal          0.000000\n",
              "MoSold           0.000000\n",
              "YrSold           0.000000\n",
              "SaleType         0.000000\n",
              "SaleCondition    0.000000\n",
              "SalePrice        0.000000\n",
              "dtype: float64"
            ]
          },
          "metadata": {},
          "execution_count": 69
        }
      ]
    },
    {
      "cell_type": "code",
      "source": [
        "x= data_train.isnull().sum()[data_train.isnull().sum()/len(data_train)>0.2]"
      ],
      "metadata": {
        "id": "EK2PSJRX8AVk"
      },
      "execution_count": 72,
      "outputs": []
    },
    {
      "cell_type": "code",
      "source": [
        "x.index"
      ],
      "metadata": {
        "id": "tyL6Wej6-9Y5",
        "outputId": "f9e9c391-2b24-4ad1-c4d9-2356f9bba14d",
        "colab": {
          "base_uri": "https://localhost:8080/"
        }
      },
      "execution_count": 73,
      "outputs": [
        {
          "output_type": "execute_result",
          "data": {
            "text/plain": [
              "Index(['Alley', 'FireplaceQu', 'PoolQC', 'Fence', 'MiscFeature'], dtype='object')"
            ]
          },
          "metadata": {},
          "execution_count": 73
        }
      ]
    },
    {
      "cell_type": "code",
      "source": [
        "data_train.drop(x.index, axis=1, inplace=True)"
      ],
      "metadata": {
        "id": "qhgU55AM8GcH"
      },
      "execution_count": 75,
      "outputs": []
    },
    {
      "cell_type": "code",
      "source": [
        "data_train.drop('Id', axis=1, inplace=True)"
      ],
      "metadata": {
        "id": "dq2ZJzO28QMQ"
      },
      "execution_count": 76,
      "outputs": []
    },
    {
      "cell_type": "code",
      "source": [
        "data_train.info()"
      ],
      "metadata": {
        "colab": {
          "base_uri": "https://localhost:8080/"
        },
        "id": "Q_74V0pe8UX2",
        "outputId": "238fe57f-e2aa-44c3-bfe3-45fa0dfe6fba"
      },
      "execution_count": 77,
      "outputs": [
        {
          "output_type": "stream",
          "name": "stdout",
          "text": [
            "<class 'pandas.core.frame.DataFrame'>\n",
            "RangeIndex: 1460 entries, 0 to 1459\n",
            "Data columns (total 75 columns):\n",
            " #   Column         Non-Null Count  Dtype  \n",
            "---  ------         --------------  -----  \n",
            " 0   MSSubClass     1460 non-null   int64  \n",
            " 1   MSZoning       1460 non-null   object \n",
            " 2   LotFrontage    1201 non-null   float64\n",
            " 3   LotArea        1460 non-null   int64  \n",
            " 4   Street         1460 non-null   object \n",
            " 5   LotShape       1460 non-null   object \n",
            " 6   LandContour    1460 non-null   object \n",
            " 7   Utilities      1460 non-null   object \n",
            " 8   LotConfig      1460 non-null   object \n",
            " 9   LandSlope      1460 non-null   object \n",
            " 10  Neighborhood   1460 non-null   object \n",
            " 11  Condition1     1460 non-null   object \n",
            " 12  Condition2     1460 non-null   object \n",
            " 13  BldgType       1460 non-null   object \n",
            " 14  HouseStyle     1460 non-null   object \n",
            " 15  OverallQual    1460 non-null   int64  \n",
            " 16  OverallCond    1460 non-null   int64  \n",
            " 17  YearBuilt      1460 non-null   int64  \n",
            " 18  YearRemodAdd   1460 non-null   int64  \n",
            " 19  RoofStyle      1460 non-null   object \n",
            " 20  RoofMatl       1460 non-null   object \n",
            " 21  Exterior1st    1460 non-null   object \n",
            " 22  Exterior2nd    1460 non-null   object \n",
            " 23  MasVnrType     1452 non-null   object \n",
            " 24  MasVnrArea     1452 non-null   float64\n",
            " 25  ExterQual      1460 non-null   object \n",
            " 26  ExterCond      1460 non-null   object \n",
            " 27  Foundation     1460 non-null   object \n",
            " 28  BsmtQual       1423 non-null   object \n",
            " 29  BsmtCond       1423 non-null   object \n",
            " 30  BsmtExposure   1422 non-null   object \n",
            " 31  BsmtFinType1   1423 non-null   object \n",
            " 32  BsmtFinSF1     1460 non-null   int64  \n",
            " 33  BsmtFinType2   1422 non-null   object \n",
            " 34  BsmtFinSF2     1460 non-null   int64  \n",
            " 35  BsmtUnfSF      1460 non-null   int64  \n",
            " 36  TotalBsmtSF    1460 non-null   int64  \n",
            " 37  Heating        1460 non-null   object \n",
            " 38  HeatingQC      1460 non-null   object \n",
            " 39  CentralAir     1460 non-null   object \n",
            " 40  Electrical     1459 non-null   object \n",
            " 41  1stFlrSF       1460 non-null   int64  \n",
            " 42  2ndFlrSF       1460 non-null   int64  \n",
            " 43  LowQualFinSF   1460 non-null   int64  \n",
            " 44  GrLivArea      1460 non-null   int64  \n",
            " 45  BsmtFullBath   1460 non-null   int64  \n",
            " 46  BsmtHalfBath   1460 non-null   int64  \n",
            " 47  FullBath       1460 non-null   int64  \n",
            " 48  HalfBath       1460 non-null   int64  \n",
            " 49  BedroomAbvGr   1460 non-null   int64  \n",
            " 50  KitchenAbvGr   1460 non-null   int64  \n",
            " 51  KitchenQual    1460 non-null   object \n",
            " 52  TotRmsAbvGrd   1460 non-null   int64  \n",
            " 53  Functional     1460 non-null   object \n",
            " 54  Fireplaces     1460 non-null   int64  \n",
            " 55  GarageType     1379 non-null   object \n",
            " 56  GarageYrBlt    1379 non-null   float64\n",
            " 57  GarageFinish   1379 non-null   object \n",
            " 58  GarageCars     1460 non-null   int64  \n",
            " 59  GarageArea     1460 non-null   int64  \n",
            " 60  GarageQual     1379 non-null   object \n",
            " 61  GarageCond     1379 non-null   object \n",
            " 62  PavedDrive     1460 non-null   object \n",
            " 63  WoodDeckSF     1460 non-null   int64  \n",
            " 64  OpenPorchSF    1460 non-null   int64  \n",
            " 65  EnclosedPorch  1460 non-null   int64  \n",
            " 66  3SsnPorch      1460 non-null   int64  \n",
            " 67  ScreenPorch    1460 non-null   int64  \n",
            " 68  PoolArea       1460 non-null   int64  \n",
            " 69  MiscVal        1460 non-null   int64  \n",
            " 70  MoSold         1460 non-null   int64  \n",
            " 71  YrSold         1460 non-null   int64  \n",
            " 72  SaleType       1460 non-null   object \n",
            " 73  SaleCondition  1460 non-null   object \n",
            " 74  SalePrice      1460 non-null   int64  \n",
            "dtypes: float64(3), int64(34), object(38)\n",
            "memory usage: 855.6+ KB\n"
          ]
        }
      ]
    },
    {
      "cell_type": "code",
      "source": [],
      "metadata": {
        "id": "HFM5L3pNFDBX"
      },
      "execution_count": 55,
      "outputs": []
    },
    {
      "cell_type": "code",
      "source": [
        "data_train.shape"
      ],
      "metadata": {
        "id": "B5q8rTqsFGRu",
        "colab": {
          "base_uri": "https://localhost:8080/"
        },
        "outputId": "322b59ac-2912-4aff-e9e5-f2f5418c7a8b"
      },
      "execution_count": 78,
      "outputs": [
        {
          "output_type": "execute_result",
          "data": {
            "text/plain": [
              "(1460, 75)"
            ]
          },
          "metadata": {},
          "execution_count": 78
        }
      ]
    },
    {
      "cell_type": "code",
      "source": [
        "data_train.dropna(inplace= True)\n",
        "\n",
        "data_train.shape"
      ],
      "metadata": {
        "colab": {
          "base_uri": "https://localhost:8080/"
        },
        "id": "-nyu7JI8KH8e",
        "outputId": "d4574c7b-f6bf-41c1-ebb1-3294e7c626eb"
      },
      "execution_count": 81,
      "outputs": [
        {
          "output_type": "execute_result",
          "data": {
            "text/plain": [
              "(1094, 75)"
            ]
          },
          "metadata": {},
          "execution_count": 81
        }
      ]
    },
    {
      "cell_type": "code",
      "source": [
        "new_data_train = pd.get_dummies(data_train, drop_first = True)"
      ],
      "metadata": {
        "id": "MsJ-gTzaK0GJ"
      },
      "execution_count": 82,
      "outputs": []
    },
    {
      "cell_type": "code",
      "source": [
        "new_data_train.shape"
      ],
      "metadata": {
        "colab": {
          "base_uri": "https://localhost:8080/"
        },
        "id": "4kVn21YZL0pV",
        "outputId": "d9d7018c-476d-42c3-b4dd-6b9631a2dbe4"
      },
      "execution_count": 83,
      "outputs": [
        {
          "output_type": "execute_result",
          "data": {
            "text/plain": [
              "(1094, 222)"
            ]
          },
          "metadata": {},
          "execution_count": 83
        }
      ]
    },
    {
      "cell_type": "code",
      "source": [
        "data_train.shape"
      ],
      "metadata": {
        "colab": {
          "base_uri": "https://localhost:8080/"
        },
        "id": "qbA49nbEMMy0",
        "outputId": "7ebf33aa-8ca9-4a74-b921-5b89172da6d3"
      },
      "execution_count": 60,
      "outputs": [
        {
          "output_type": "execute_result",
          "data": {
            "text/plain": [
              "(1460, 81)"
            ]
          },
          "metadata": {},
          "execution_count": 60
        }
      ]
    },
    {
      "cell_type": "code",
      "source": [
        "#  Multicolinearity, When two columns are highly colinear each other, if "
      ],
      "metadata": {
        "id": "qIJx5EnGN2dt"
      },
      "execution_count": 84,
      "outputs": []
    },
    {
      "cell_type": "code",
      "source": [
        "# Train- Test Split\n"
      ],
      "metadata": {
        "id": "HYn8ZzFWENvR"
      },
      "execution_count": 85,
      "outputs": []
    },
    {
      "cell_type": "code",
      "source": [
        "# new_data_train"
      ],
      "metadata": {
        "id": "hxcTmi17F-mf"
      },
      "execution_count": null,
      "outputs": []
    },
    {
      "cell_type": "code",
      "source": [
        "from sklearn.model_selection import train_test_split"
      ],
      "metadata": {
        "id": "LP5pmqnHETlA"
      },
      "execution_count": 86,
      "outputs": []
    },
    {
      "cell_type": "code",
      "source": [
        "x = new_data_train.iloc[:,:-1]"
      ],
      "metadata": {
        "id": "AdUg6FhZEjwY"
      },
      "execution_count": 89,
      "outputs": []
    },
    {
      "cell_type": "code",
      "source": [
        "y = new_data_train['SalePrice']"
      ],
      "metadata": {
        "id": "J4kzTKDLFvHv"
      },
      "execution_count": 90,
      "outputs": []
    },
    {
      "cell_type": "code",
      "source": [
        "#  Apply one hot encoding for target variable(y)"
      ],
      "metadata": {
        "id": "y_KOalW0IrdQ"
      },
      "execution_count": 95,
      "outputs": []
    },
    {
      "cell_type": "code",
      "source": [
        "from sklearn.preprocessing import OneHotEncoder"
      ],
      "metadata": {
        "id": "Mfx35TwtI34n"
      },
      "execution_count": null,
      "outputs": []
    },
    {
      "cell_type": "code",
      "source": [
        "from sklearn.linear_model import LinearRegression"
      ],
      "metadata": {
        "id": "tpEfGpfFGeRc"
      },
      "execution_count": 91,
      "outputs": []
    },
    {
      "cell_type": "code",
      "source": [
        "model = LinearRegression()"
      ],
      "metadata": {
        "id": "onWClAYwG2MP"
      },
      "execution_count": 92,
      "outputs": []
    },
    {
      "cell_type": "code",
      "source": [
        "# fitting the model"
      ],
      "metadata": {
        "id": "bpRvC-F0G9bb"
      },
      "execution_count": 93,
      "outputs": []
    },
    {
      "cell_type": "code",
      "source": [],
      "metadata": {
        "id": "iqdgFG_mIVOL"
      },
      "execution_count": null,
      "outputs": []
    },
    {
      "cell_type": "code",
      "source": [
        "model.fit(x, y)"
      ],
      "metadata": {
        "id": "OcEyS7_KHBqs",
        "outputId": "ff91f69b-0e07-4e00-ceb9-a497aaec5bc9",
        "colab": {
          "base_uri": "https://localhost:8080/"
        }
      },
      "execution_count": 94,
      "outputs": [
        {
          "output_type": "execute_result",
          "data": {
            "text/plain": [
              "LinearRegression()"
            ]
          },
          "metadata": {},
          "execution_count": 94
        }
      ]
    },
    {
      "cell_type": "code",
      "source": [],
      "metadata": {
        "id": "e3MeaRqSHOcp"
      },
      "execution_count": null,
      "outputs": []
    }
  ]
}
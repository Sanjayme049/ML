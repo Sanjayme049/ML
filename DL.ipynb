{
  "nbformat": 4,
  "nbformat_minor": 0,
  "metadata": {
    "colab": {
      "provenance": [],
      "authorship_tag": "ABX9TyPpxPPBEZYNgRng8LvfBpAz",
      "include_colab_link": true
    },
    "kernelspec": {
      "name": "python3",
      "display_name": "Python 3"
    },
    "language_info": {
      "name": "python"
    }
  },
  "cells": [
    {
      "cell_type": "markdown",
      "metadata": {
        "id": "view-in-github",
        "colab_type": "text"
      },
      "source": [
        "<a href=\"https://colab.research.google.com/github/Sanjayme049/ML/blob/main/DL.ipynb\" target=\"_parent\"><img src=\"https://colab.research.google.com/assets/colab-badge.svg\" alt=\"Open In Colab\"/></a>"
      ]
    },
    {
      "cell_type": "code",
      "execution_count": null,
      "metadata": {
        "id": "xBz76-DdRQQ5"
      },
      "outputs": [],
      "source": [
        "# Neaural Networks\n",
        "\n",
        "# Introduction deep learning by Udacity\n",
        "\n",
        "# ML model always predicts the probablity of one class.\n",
        "\n",
        "# Maximum likelihood estimation- when the product of the probablity increases error decreases.\n",
        "\n",
        "# Cross Entropy = -Summation of i=1 to m(yiln(pi))+(1-yi)ln(1-pi)\n",
        "\n",
        "# cross entropy for multi class classification problem = summantion of 1=1 to n x summantion of j=1 to m y(ij)p(ij)\n",
        "\n",
        "#  A neuron in artificial neural network is equalavent to one logistic regression\n",
        "\n",
        "# Fully connected neural network always expects to be a vector\n",
        "\n",
        "# Neural network needs non linear transformation. Strecting, rotation and bending.\n",
        "\n",
        "#  Stretching & rotation is for lineariity\n",
        "\n",
        "# bending is for non linearity\n",
        "\n",
        "# Introduction to Pytorch- udacity 2 hours"
      ]
    },
    {
      "cell_type": "code",
      "source": [],
      "metadata": {
        "id": "k4QF-lOqHDHX"
      },
      "execution_count": null,
      "outputs": []
    }
  ]
}
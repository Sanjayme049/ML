{
  "nbformat": 4,
  "nbformat_minor": 0,
  "metadata": {
    "colab": {
      "provenance": [],
      "authorship_tag": "ABX9TyMUlZOq8uQMoB2SWcMJ0kRZ",
      "include_colab_link": true
    },
    "kernelspec": {
      "name": "python3",
      "display_name": "Python 3"
    },
    "language_info": {
      "name": "python"
    }
  },
  "cells": [
    {
      "cell_type": "markdown",
      "metadata": {
        "id": "view-in-github",
        "colab_type": "text"
      },
      "source": [
        "<a href=\"https://colab.research.google.com/github/Sanjayme049/ML/blob/main/Weather_dataset.ipynb\" target=\"_parent\"><img src=\"https://colab.research.google.com/assets/colab-badge.svg\" alt=\"Open In Colab\"/></a>"
      ]
    },
    {
      "cell_type": "code",
      "execution_count": 33,
      "metadata": {
        "id": "Ij7njYGY2jt_"
      },
      "outputs": [],
      "source": [
        "import numpy as np\n",
        "import pandas as pd\n",
        "import seaborn as sns\n",
        "import matplotlib.pyplot as plt\n",
        "import warnings"
      ]
    },
    {
      "cell_type": "code",
      "source": [
        "from google.colab import drive\n",
        "drive.mount(\"/content/gdrive\")"
      ],
      "metadata": {
        "colab": {
          "base_uri": "https://localhost:8080/"
        },
        "id": "PdY8lLEu2t0h",
        "outputId": "aa882033-c80f-47ef-9526-c283a92decd1"
      },
      "execution_count": 34,
      "outputs": [
        {
          "output_type": "stream",
          "name": "stdout",
          "text": [
            "Drive already mounted at /content/gdrive; to attempt to forcibly remount, call drive.mount(\"/content/gdrive\", force_remount=True).\n"
          ]
        }
      ]
    },
    {
      "cell_type": "code",
      "source": [
        "data = pd.read_csv('/content/gdrive/My Drive/ML/ML_Weather_Dataset/weatherHistory.csv')"
      ],
      "metadata": {
        "id": "OaFHsZxF286z"
      },
      "execution_count": 35,
      "outputs": []
    },
    {
      "cell_type": "code",
      "source": [
        "data\n"
      ],
      "metadata": {
        "colab": {
          "base_uri": "https://localhost:8080/",
          "height": 658
        },
        "id": "DfJ-xLiF3YWV",
        "outputId": "39078c12-3afe-4975-c016-d5b848eaa32f"
      },
      "execution_count": 36,
      "outputs": [
        {
          "output_type": "execute_result",
          "data": {
            "text/plain": [
              "                      Formatted Date        Summary Precip Type  \\\n",
              "0      2006-04-01 00:00:00.000 +0200  Partly Cloudy        rain   \n",
              "1      2006-04-01 01:00:00.000 +0200  Partly Cloudy        rain   \n",
              "2      2006-04-01 02:00:00.000 +0200  Mostly Cloudy        rain   \n",
              "3      2006-04-01 03:00:00.000 +0200  Partly Cloudy        rain   \n",
              "4      2006-04-01 04:00:00.000 +0200  Mostly Cloudy        rain   \n",
              "...                              ...            ...         ...   \n",
              "96448  2016-09-09 19:00:00.000 +0200  Partly Cloudy        rain   \n",
              "96449  2016-09-09 20:00:00.000 +0200  Partly Cloudy        rain   \n",
              "96450  2016-09-09 21:00:00.000 +0200  Partly Cloudy        rain   \n",
              "96451  2016-09-09 22:00:00.000 +0200  Partly Cloudy        rain   \n",
              "96452  2016-09-09 23:00:00.000 +0200  Partly Cloudy        rain   \n",
              "\n",
              "       Temperature (C)  Apparent Temperature (C)  Humidity  Wind Speed (km/h)  \\\n",
              "0             9.472222                  7.388889      0.89            14.1197   \n",
              "1             9.355556                  7.227778      0.86            14.2646   \n",
              "2             9.377778                  9.377778      0.89             3.9284   \n",
              "3             8.288889                  5.944444      0.83            14.1036   \n",
              "4             8.755556                  6.977778      0.83            11.0446   \n",
              "...                ...                       ...       ...                ...   \n",
              "96448        26.016667                 26.016667      0.43            10.9963   \n",
              "96449        24.583333                 24.583333      0.48            10.0947   \n",
              "96450        22.038889                 22.038889      0.56             8.9838   \n",
              "96451        21.522222                 21.522222      0.60            10.5294   \n",
              "96452        20.438889                 20.438889      0.61             5.8765   \n",
              "\n",
              "       Wind Bearing (degrees)  Visibility (km)  Loud Cover  \\\n",
              "0                       251.0          15.8263         0.0   \n",
              "1                       259.0          15.8263         0.0   \n",
              "2                       204.0          14.9569         0.0   \n",
              "3                       269.0          15.8263         0.0   \n",
              "4                       259.0          15.8263         0.0   \n",
              "...                       ...              ...         ...   \n",
              "96448                    31.0          16.1000         0.0   \n",
              "96449                    20.0          15.5526         0.0   \n",
              "96450                    30.0          16.1000         0.0   \n",
              "96451                    20.0          16.1000         0.0   \n",
              "96452                    39.0          15.5204         0.0   \n",
              "\n",
              "       Pressure (millibars)                           Daily Summary  \n",
              "0                   1015.13       Partly cloudy throughout the day.  \n",
              "1                   1015.63       Partly cloudy throughout the day.  \n",
              "2                   1015.94       Partly cloudy throughout the day.  \n",
              "3                   1016.41       Partly cloudy throughout the day.  \n",
              "4                   1016.51       Partly cloudy throughout the day.  \n",
              "...                     ...                                     ...  \n",
              "96448               1014.36  Partly cloudy starting in the morning.  \n",
              "96449               1015.16  Partly cloudy starting in the morning.  \n",
              "96450               1015.66  Partly cloudy starting in the morning.  \n",
              "96451               1015.95  Partly cloudy starting in the morning.  \n",
              "96452               1016.16  Partly cloudy starting in the morning.  \n",
              "\n",
              "[96453 rows x 12 columns]"
            ],
            "text/html": [
              "\n",
              "  <div id=\"df-450fda0a-2b9b-4371-928a-19b84d9b1f02\">\n",
              "    <div class=\"colab-df-container\">\n",
              "      <div>\n",
              "<style scoped>\n",
              "    .dataframe tbody tr th:only-of-type {\n",
              "        vertical-align: middle;\n",
              "    }\n",
              "\n",
              "    .dataframe tbody tr th {\n",
              "        vertical-align: top;\n",
              "    }\n",
              "\n",
              "    .dataframe thead th {\n",
              "        text-align: right;\n",
              "    }\n",
              "</style>\n",
              "<table border=\"1\" class=\"dataframe\">\n",
              "  <thead>\n",
              "    <tr style=\"text-align: right;\">\n",
              "      <th></th>\n",
              "      <th>Formatted Date</th>\n",
              "      <th>Summary</th>\n",
              "      <th>Precip Type</th>\n",
              "      <th>Temperature (C)</th>\n",
              "      <th>Apparent Temperature (C)</th>\n",
              "      <th>Humidity</th>\n",
              "      <th>Wind Speed (km/h)</th>\n",
              "      <th>Wind Bearing (degrees)</th>\n",
              "      <th>Visibility (km)</th>\n",
              "      <th>Loud Cover</th>\n",
              "      <th>Pressure (millibars)</th>\n",
              "      <th>Daily Summary</th>\n",
              "    </tr>\n",
              "  </thead>\n",
              "  <tbody>\n",
              "    <tr>\n",
              "      <th>0</th>\n",
              "      <td>2006-04-01 00:00:00.000 +0200</td>\n",
              "      <td>Partly Cloudy</td>\n",
              "      <td>rain</td>\n",
              "      <td>9.472222</td>\n",
              "      <td>7.388889</td>\n",
              "      <td>0.89</td>\n",
              "      <td>14.1197</td>\n",
              "      <td>251.0</td>\n",
              "      <td>15.8263</td>\n",
              "      <td>0.0</td>\n",
              "      <td>1015.13</td>\n",
              "      <td>Partly cloudy throughout the day.</td>\n",
              "    </tr>\n",
              "    <tr>\n",
              "      <th>1</th>\n",
              "      <td>2006-04-01 01:00:00.000 +0200</td>\n",
              "      <td>Partly Cloudy</td>\n",
              "      <td>rain</td>\n",
              "      <td>9.355556</td>\n",
              "      <td>7.227778</td>\n",
              "      <td>0.86</td>\n",
              "      <td>14.2646</td>\n",
              "      <td>259.0</td>\n",
              "      <td>15.8263</td>\n",
              "      <td>0.0</td>\n",
              "      <td>1015.63</td>\n",
              "      <td>Partly cloudy throughout the day.</td>\n",
              "    </tr>\n",
              "    <tr>\n",
              "      <th>2</th>\n",
              "      <td>2006-04-01 02:00:00.000 +0200</td>\n",
              "      <td>Mostly Cloudy</td>\n",
              "      <td>rain</td>\n",
              "      <td>9.377778</td>\n",
              "      <td>9.377778</td>\n",
              "      <td>0.89</td>\n",
              "      <td>3.9284</td>\n",
              "      <td>204.0</td>\n",
              "      <td>14.9569</td>\n",
              "      <td>0.0</td>\n",
              "      <td>1015.94</td>\n",
              "      <td>Partly cloudy throughout the day.</td>\n",
              "    </tr>\n",
              "    <tr>\n",
              "      <th>3</th>\n",
              "      <td>2006-04-01 03:00:00.000 +0200</td>\n",
              "      <td>Partly Cloudy</td>\n",
              "      <td>rain</td>\n",
              "      <td>8.288889</td>\n",
              "      <td>5.944444</td>\n",
              "      <td>0.83</td>\n",
              "      <td>14.1036</td>\n",
              "      <td>269.0</td>\n",
              "      <td>15.8263</td>\n",
              "      <td>0.0</td>\n",
              "      <td>1016.41</td>\n",
              "      <td>Partly cloudy throughout the day.</td>\n",
              "    </tr>\n",
              "    <tr>\n",
              "      <th>4</th>\n",
              "      <td>2006-04-01 04:00:00.000 +0200</td>\n",
              "      <td>Mostly Cloudy</td>\n",
              "      <td>rain</td>\n",
              "      <td>8.755556</td>\n",
              "      <td>6.977778</td>\n",
              "      <td>0.83</td>\n",
              "      <td>11.0446</td>\n",
              "      <td>259.0</td>\n",
              "      <td>15.8263</td>\n",
              "      <td>0.0</td>\n",
              "      <td>1016.51</td>\n",
              "      <td>Partly cloudy throughout the day.</td>\n",
              "    </tr>\n",
              "    <tr>\n",
              "      <th>...</th>\n",
              "      <td>...</td>\n",
              "      <td>...</td>\n",
              "      <td>...</td>\n",
              "      <td>...</td>\n",
              "      <td>...</td>\n",
              "      <td>...</td>\n",
              "      <td>...</td>\n",
              "      <td>...</td>\n",
              "      <td>...</td>\n",
              "      <td>...</td>\n",
              "      <td>...</td>\n",
              "      <td>...</td>\n",
              "    </tr>\n",
              "    <tr>\n",
              "      <th>96448</th>\n",
              "      <td>2016-09-09 19:00:00.000 +0200</td>\n",
              "      <td>Partly Cloudy</td>\n",
              "      <td>rain</td>\n",
              "      <td>26.016667</td>\n",
              "      <td>26.016667</td>\n",
              "      <td>0.43</td>\n",
              "      <td>10.9963</td>\n",
              "      <td>31.0</td>\n",
              "      <td>16.1000</td>\n",
              "      <td>0.0</td>\n",
              "      <td>1014.36</td>\n",
              "      <td>Partly cloudy starting in the morning.</td>\n",
              "    </tr>\n",
              "    <tr>\n",
              "      <th>96449</th>\n",
              "      <td>2016-09-09 20:00:00.000 +0200</td>\n",
              "      <td>Partly Cloudy</td>\n",
              "      <td>rain</td>\n",
              "      <td>24.583333</td>\n",
              "      <td>24.583333</td>\n",
              "      <td>0.48</td>\n",
              "      <td>10.0947</td>\n",
              "      <td>20.0</td>\n",
              "      <td>15.5526</td>\n",
              "      <td>0.0</td>\n",
              "      <td>1015.16</td>\n",
              "      <td>Partly cloudy starting in the morning.</td>\n",
              "    </tr>\n",
              "    <tr>\n",
              "      <th>96450</th>\n",
              "      <td>2016-09-09 21:00:00.000 +0200</td>\n",
              "      <td>Partly Cloudy</td>\n",
              "      <td>rain</td>\n",
              "      <td>22.038889</td>\n",
              "      <td>22.038889</td>\n",
              "      <td>0.56</td>\n",
              "      <td>8.9838</td>\n",
              "      <td>30.0</td>\n",
              "      <td>16.1000</td>\n",
              "      <td>0.0</td>\n",
              "      <td>1015.66</td>\n",
              "      <td>Partly cloudy starting in the morning.</td>\n",
              "    </tr>\n",
              "    <tr>\n",
              "      <th>96451</th>\n",
              "      <td>2016-09-09 22:00:00.000 +0200</td>\n",
              "      <td>Partly Cloudy</td>\n",
              "      <td>rain</td>\n",
              "      <td>21.522222</td>\n",
              "      <td>21.522222</td>\n",
              "      <td>0.60</td>\n",
              "      <td>10.5294</td>\n",
              "      <td>20.0</td>\n",
              "      <td>16.1000</td>\n",
              "      <td>0.0</td>\n",
              "      <td>1015.95</td>\n",
              "      <td>Partly cloudy starting in the morning.</td>\n",
              "    </tr>\n",
              "    <tr>\n",
              "      <th>96452</th>\n",
              "      <td>2016-09-09 23:00:00.000 +0200</td>\n",
              "      <td>Partly Cloudy</td>\n",
              "      <td>rain</td>\n",
              "      <td>20.438889</td>\n",
              "      <td>20.438889</td>\n",
              "      <td>0.61</td>\n",
              "      <td>5.8765</td>\n",
              "      <td>39.0</td>\n",
              "      <td>15.5204</td>\n",
              "      <td>0.0</td>\n",
              "      <td>1016.16</td>\n",
              "      <td>Partly cloudy starting in the morning.</td>\n",
              "    </tr>\n",
              "  </tbody>\n",
              "</table>\n",
              "<p>96453 rows × 12 columns</p>\n",
              "</div>\n",
              "      <button class=\"colab-df-convert\" onclick=\"convertToInteractive('df-450fda0a-2b9b-4371-928a-19b84d9b1f02')\"\n",
              "              title=\"Convert this dataframe to an interactive table.\"\n",
              "              style=\"display:none;\">\n",
              "        \n",
              "  <svg xmlns=\"http://www.w3.org/2000/svg\" height=\"24px\"viewBox=\"0 0 24 24\"\n",
              "       width=\"24px\">\n",
              "    <path d=\"M0 0h24v24H0V0z\" fill=\"none\"/>\n",
              "    <path d=\"M18.56 5.44l.94 2.06.94-2.06 2.06-.94-2.06-.94-.94-2.06-.94 2.06-2.06.94zm-11 1L8.5 8.5l.94-2.06 2.06-.94-2.06-.94L8.5 2.5l-.94 2.06-2.06.94zm10 10l.94 2.06.94-2.06 2.06-.94-2.06-.94-.94-2.06-.94 2.06-2.06.94z\"/><path d=\"M17.41 7.96l-1.37-1.37c-.4-.4-.92-.59-1.43-.59-.52 0-1.04.2-1.43.59L10.3 9.45l-7.72 7.72c-.78.78-.78 2.05 0 2.83L4 21.41c.39.39.9.59 1.41.59.51 0 1.02-.2 1.41-.59l7.78-7.78 2.81-2.81c.8-.78.8-2.07 0-2.86zM5.41 20L4 18.59l7.72-7.72 1.47 1.35L5.41 20z\"/>\n",
              "  </svg>\n",
              "      </button>\n",
              "      \n",
              "  <style>\n",
              "    .colab-df-container {\n",
              "      display:flex;\n",
              "      flex-wrap:wrap;\n",
              "      gap: 12px;\n",
              "    }\n",
              "\n",
              "    .colab-df-convert {\n",
              "      background-color: #E8F0FE;\n",
              "      border: none;\n",
              "      border-radius: 50%;\n",
              "      cursor: pointer;\n",
              "      display: none;\n",
              "      fill: #1967D2;\n",
              "      height: 32px;\n",
              "      padding: 0 0 0 0;\n",
              "      width: 32px;\n",
              "    }\n",
              "\n",
              "    .colab-df-convert:hover {\n",
              "      background-color: #E2EBFA;\n",
              "      box-shadow: 0px 1px 2px rgba(60, 64, 67, 0.3), 0px 1px 3px 1px rgba(60, 64, 67, 0.15);\n",
              "      fill: #174EA6;\n",
              "    }\n",
              "\n",
              "    [theme=dark] .colab-df-convert {\n",
              "      background-color: #3B4455;\n",
              "      fill: #D2E3FC;\n",
              "    }\n",
              "\n",
              "    [theme=dark] .colab-df-convert:hover {\n",
              "      background-color: #434B5C;\n",
              "      box-shadow: 0px 1px 3px 1px rgba(0, 0, 0, 0.15);\n",
              "      filter: drop-shadow(0px 1px 2px rgba(0, 0, 0, 0.3));\n",
              "      fill: #FFFFFF;\n",
              "    }\n",
              "  </style>\n",
              "\n",
              "      <script>\n",
              "        const buttonEl =\n",
              "          document.querySelector('#df-450fda0a-2b9b-4371-928a-19b84d9b1f02 button.colab-df-convert');\n",
              "        buttonEl.style.display =\n",
              "          google.colab.kernel.accessAllowed ? 'block' : 'none';\n",
              "\n",
              "        async function convertToInteractive(key) {\n",
              "          const element = document.querySelector('#df-450fda0a-2b9b-4371-928a-19b84d9b1f02');\n",
              "          const dataTable =\n",
              "            await google.colab.kernel.invokeFunction('convertToInteractive',\n",
              "                                                     [key], {});\n",
              "          if (!dataTable) return;\n",
              "\n",
              "          const docLinkHtml = 'Like what you see? Visit the ' +\n",
              "            '<a target=\"_blank\" href=https://colab.research.google.com/notebooks/data_table.ipynb>data table notebook</a>'\n",
              "            + ' to learn more about interactive tables.';\n",
              "          element.innerHTML = '';\n",
              "          dataTable['output_type'] = 'display_data';\n",
              "          await google.colab.output.renderOutput(dataTable, element);\n",
              "          const docLink = document.createElement('div');\n",
              "          docLink.innerHTML = docLinkHtml;\n",
              "          element.appendChild(docLink);\n",
              "        }\n",
              "      </script>\n",
              "    </div>\n",
              "  </div>\n",
              "  "
            ]
          },
          "metadata": {},
          "execution_count": 36
        }
      ]
    },
    {
      "cell_type": "code",
      "source": [
        "data.shape"
      ],
      "metadata": {
        "colab": {
          "base_uri": "https://localhost:8080/"
        },
        "id": "G_SVklSV3-Ri",
        "outputId": "968fc529-dc39-426a-9e2c-487f7cd4c9e3"
      },
      "execution_count": 37,
      "outputs": [
        {
          "output_type": "execute_result",
          "data": {
            "text/plain": [
              "(96453, 12)"
            ]
          },
          "metadata": {},
          "execution_count": 37
        }
      ]
    },
    {
      "cell_type": "code",
      "source": [
        "data['Formatted Date'] = data['Formatted Date'].apply(lambda x: x.split('.')[0])\n",
        "data['Formatted Date'] = pd.to_datetime(data['Formatted Date'])"
      ],
      "metadata": {
        "id": "Sm82lhEz4Hj4"
      },
      "execution_count": 38,
      "outputs": []
    },
    {
      "cell_type": "code",
      "source": [
        "data"
      ],
      "metadata": {
        "colab": {
          "base_uri": "https://localhost:8080/",
          "height": 658
        },
        "id": "bU29rk8j40Db",
        "outputId": "9526b721-8671-4475-897e-03cd1a4a4b30"
      },
      "execution_count": 39,
      "outputs": [
        {
          "output_type": "execute_result",
          "data": {
            "text/plain": [
              "           Formatted Date        Summary Precip Type  Temperature (C)  \\\n",
              "0     2006-04-01 00:00:00  Partly Cloudy        rain         9.472222   \n",
              "1     2006-04-01 01:00:00  Partly Cloudy        rain         9.355556   \n",
              "2     2006-04-01 02:00:00  Mostly Cloudy        rain         9.377778   \n",
              "3     2006-04-01 03:00:00  Partly Cloudy        rain         8.288889   \n",
              "4     2006-04-01 04:00:00  Mostly Cloudy        rain         8.755556   \n",
              "...                   ...            ...         ...              ...   \n",
              "96448 2016-09-09 19:00:00  Partly Cloudy        rain        26.016667   \n",
              "96449 2016-09-09 20:00:00  Partly Cloudy        rain        24.583333   \n",
              "96450 2016-09-09 21:00:00  Partly Cloudy        rain        22.038889   \n",
              "96451 2016-09-09 22:00:00  Partly Cloudy        rain        21.522222   \n",
              "96452 2016-09-09 23:00:00  Partly Cloudy        rain        20.438889   \n",
              "\n",
              "       Apparent Temperature (C)  Humidity  Wind Speed (km/h)  \\\n",
              "0                      7.388889      0.89            14.1197   \n",
              "1                      7.227778      0.86            14.2646   \n",
              "2                      9.377778      0.89             3.9284   \n",
              "3                      5.944444      0.83            14.1036   \n",
              "4                      6.977778      0.83            11.0446   \n",
              "...                         ...       ...                ...   \n",
              "96448                 26.016667      0.43            10.9963   \n",
              "96449                 24.583333      0.48            10.0947   \n",
              "96450                 22.038889      0.56             8.9838   \n",
              "96451                 21.522222      0.60            10.5294   \n",
              "96452                 20.438889      0.61             5.8765   \n",
              "\n",
              "       Wind Bearing (degrees)  Visibility (km)  Loud Cover  \\\n",
              "0                       251.0          15.8263         0.0   \n",
              "1                       259.0          15.8263         0.0   \n",
              "2                       204.0          14.9569         0.0   \n",
              "3                       269.0          15.8263         0.0   \n",
              "4                       259.0          15.8263         0.0   \n",
              "...                       ...              ...         ...   \n",
              "96448                    31.0          16.1000         0.0   \n",
              "96449                    20.0          15.5526         0.0   \n",
              "96450                    30.0          16.1000         0.0   \n",
              "96451                    20.0          16.1000         0.0   \n",
              "96452                    39.0          15.5204         0.0   \n",
              "\n",
              "       Pressure (millibars)                           Daily Summary  \n",
              "0                   1015.13       Partly cloudy throughout the day.  \n",
              "1                   1015.63       Partly cloudy throughout the day.  \n",
              "2                   1015.94       Partly cloudy throughout the day.  \n",
              "3                   1016.41       Partly cloudy throughout the day.  \n",
              "4                   1016.51       Partly cloudy throughout the day.  \n",
              "...                     ...                                     ...  \n",
              "96448               1014.36  Partly cloudy starting in the morning.  \n",
              "96449               1015.16  Partly cloudy starting in the morning.  \n",
              "96450               1015.66  Partly cloudy starting in the morning.  \n",
              "96451               1015.95  Partly cloudy starting in the morning.  \n",
              "96452               1016.16  Partly cloudy starting in the morning.  \n",
              "\n",
              "[96453 rows x 12 columns]"
            ],
            "text/html": [
              "\n",
              "  <div id=\"df-6aac1ee0-596d-4b47-9d85-e97ef0239544\">\n",
              "    <div class=\"colab-df-container\">\n",
              "      <div>\n",
              "<style scoped>\n",
              "    .dataframe tbody tr th:only-of-type {\n",
              "        vertical-align: middle;\n",
              "    }\n",
              "\n",
              "    .dataframe tbody tr th {\n",
              "        vertical-align: top;\n",
              "    }\n",
              "\n",
              "    .dataframe thead th {\n",
              "        text-align: right;\n",
              "    }\n",
              "</style>\n",
              "<table border=\"1\" class=\"dataframe\">\n",
              "  <thead>\n",
              "    <tr style=\"text-align: right;\">\n",
              "      <th></th>\n",
              "      <th>Formatted Date</th>\n",
              "      <th>Summary</th>\n",
              "      <th>Precip Type</th>\n",
              "      <th>Temperature (C)</th>\n",
              "      <th>Apparent Temperature (C)</th>\n",
              "      <th>Humidity</th>\n",
              "      <th>Wind Speed (km/h)</th>\n",
              "      <th>Wind Bearing (degrees)</th>\n",
              "      <th>Visibility (km)</th>\n",
              "      <th>Loud Cover</th>\n",
              "      <th>Pressure (millibars)</th>\n",
              "      <th>Daily Summary</th>\n",
              "    </tr>\n",
              "  </thead>\n",
              "  <tbody>\n",
              "    <tr>\n",
              "      <th>0</th>\n",
              "      <td>2006-04-01 00:00:00</td>\n",
              "      <td>Partly Cloudy</td>\n",
              "      <td>rain</td>\n",
              "      <td>9.472222</td>\n",
              "      <td>7.388889</td>\n",
              "      <td>0.89</td>\n",
              "      <td>14.1197</td>\n",
              "      <td>251.0</td>\n",
              "      <td>15.8263</td>\n",
              "      <td>0.0</td>\n",
              "      <td>1015.13</td>\n",
              "      <td>Partly cloudy throughout the day.</td>\n",
              "    </tr>\n",
              "    <tr>\n",
              "      <th>1</th>\n",
              "      <td>2006-04-01 01:00:00</td>\n",
              "      <td>Partly Cloudy</td>\n",
              "      <td>rain</td>\n",
              "      <td>9.355556</td>\n",
              "      <td>7.227778</td>\n",
              "      <td>0.86</td>\n",
              "      <td>14.2646</td>\n",
              "      <td>259.0</td>\n",
              "      <td>15.8263</td>\n",
              "      <td>0.0</td>\n",
              "      <td>1015.63</td>\n",
              "      <td>Partly cloudy throughout the day.</td>\n",
              "    </tr>\n",
              "    <tr>\n",
              "      <th>2</th>\n",
              "      <td>2006-04-01 02:00:00</td>\n",
              "      <td>Mostly Cloudy</td>\n",
              "      <td>rain</td>\n",
              "      <td>9.377778</td>\n",
              "      <td>9.377778</td>\n",
              "      <td>0.89</td>\n",
              "      <td>3.9284</td>\n",
              "      <td>204.0</td>\n",
              "      <td>14.9569</td>\n",
              "      <td>0.0</td>\n",
              "      <td>1015.94</td>\n",
              "      <td>Partly cloudy throughout the day.</td>\n",
              "    </tr>\n",
              "    <tr>\n",
              "      <th>3</th>\n",
              "      <td>2006-04-01 03:00:00</td>\n",
              "      <td>Partly Cloudy</td>\n",
              "      <td>rain</td>\n",
              "      <td>8.288889</td>\n",
              "      <td>5.944444</td>\n",
              "      <td>0.83</td>\n",
              "      <td>14.1036</td>\n",
              "      <td>269.0</td>\n",
              "      <td>15.8263</td>\n",
              "      <td>0.0</td>\n",
              "      <td>1016.41</td>\n",
              "      <td>Partly cloudy throughout the day.</td>\n",
              "    </tr>\n",
              "    <tr>\n",
              "      <th>4</th>\n",
              "      <td>2006-04-01 04:00:00</td>\n",
              "      <td>Mostly Cloudy</td>\n",
              "      <td>rain</td>\n",
              "      <td>8.755556</td>\n",
              "      <td>6.977778</td>\n",
              "      <td>0.83</td>\n",
              "      <td>11.0446</td>\n",
              "      <td>259.0</td>\n",
              "      <td>15.8263</td>\n",
              "      <td>0.0</td>\n",
              "      <td>1016.51</td>\n",
              "      <td>Partly cloudy throughout the day.</td>\n",
              "    </tr>\n",
              "    <tr>\n",
              "      <th>...</th>\n",
              "      <td>...</td>\n",
              "      <td>...</td>\n",
              "      <td>...</td>\n",
              "      <td>...</td>\n",
              "      <td>...</td>\n",
              "      <td>...</td>\n",
              "      <td>...</td>\n",
              "      <td>...</td>\n",
              "      <td>...</td>\n",
              "      <td>...</td>\n",
              "      <td>...</td>\n",
              "      <td>...</td>\n",
              "    </tr>\n",
              "    <tr>\n",
              "      <th>96448</th>\n",
              "      <td>2016-09-09 19:00:00</td>\n",
              "      <td>Partly Cloudy</td>\n",
              "      <td>rain</td>\n",
              "      <td>26.016667</td>\n",
              "      <td>26.016667</td>\n",
              "      <td>0.43</td>\n",
              "      <td>10.9963</td>\n",
              "      <td>31.0</td>\n",
              "      <td>16.1000</td>\n",
              "      <td>0.0</td>\n",
              "      <td>1014.36</td>\n",
              "      <td>Partly cloudy starting in the morning.</td>\n",
              "    </tr>\n",
              "    <tr>\n",
              "      <th>96449</th>\n",
              "      <td>2016-09-09 20:00:00</td>\n",
              "      <td>Partly Cloudy</td>\n",
              "      <td>rain</td>\n",
              "      <td>24.583333</td>\n",
              "      <td>24.583333</td>\n",
              "      <td>0.48</td>\n",
              "      <td>10.0947</td>\n",
              "      <td>20.0</td>\n",
              "      <td>15.5526</td>\n",
              "      <td>0.0</td>\n",
              "      <td>1015.16</td>\n",
              "      <td>Partly cloudy starting in the morning.</td>\n",
              "    </tr>\n",
              "    <tr>\n",
              "      <th>96450</th>\n",
              "      <td>2016-09-09 21:00:00</td>\n",
              "      <td>Partly Cloudy</td>\n",
              "      <td>rain</td>\n",
              "      <td>22.038889</td>\n",
              "      <td>22.038889</td>\n",
              "      <td>0.56</td>\n",
              "      <td>8.9838</td>\n",
              "      <td>30.0</td>\n",
              "      <td>16.1000</td>\n",
              "      <td>0.0</td>\n",
              "      <td>1015.66</td>\n",
              "      <td>Partly cloudy starting in the morning.</td>\n",
              "    </tr>\n",
              "    <tr>\n",
              "      <th>96451</th>\n",
              "      <td>2016-09-09 22:00:00</td>\n",
              "      <td>Partly Cloudy</td>\n",
              "      <td>rain</td>\n",
              "      <td>21.522222</td>\n",
              "      <td>21.522222</td>\n",
              "      <td>0.60</td>\n",
              "      <td>10.5294</td>\n",
              "      <td>20.0</td>\n",
              "      <td>16.1000</td>\n",
              "      <td>0.0</td>\n",
              "      <td>1015.95</td>\n",
              "      <td>Partly cloudy starting in the morning.</td>\n",
              "    </tr>\n",
              "    <tr>\n",
              "      <th>96452</th>\n",
              "      <td>2016-09-09 23:00:00</td>\n",
              "      <td>Partly Cloudy</td>\n",
              "      <td>rain</td>\n",
              "      <td>20.438889</td>\n",
              "      <td>20.438889</td>\n",
              "      <td>0.61</td>\n",
              "      <td>5.8765</td>\n",
              "      <td>39.0</td>\n",
              "      <td>15.5204</td>\n",
              "      <td>0.0</td>\n",
              "      <td>1016.16</td>\n",
              "      <td>Partly cloudy starting in the morning.</td>\n",
              "    </tr>\n",
              "  </tbody>\n",
              "</table>\n",
              "<p>96453 rows × 12 columns</p>\n",
              "</div>\n",
              "      <button class=\"colab-df-convert\" onclick=\"convertToInteractive('df-6aac1ee0-596d-4b47-9d85-e97ef0239544')\"\n",
              "              title=\"Convert this dataframe to an interactive table.\"\n",
              "              style=\"display:none;\">\n",
              "        \n",
              "  <svg xmlns=\"http://www.w3.org/2000/svg\" height=\"24px\"viewBox=\"0 0 24 24\"\n",
              "       width=\"24px\">\n",
              "    <path d=\"M0 0h24v24H0V0z\" fill=\"none\"/>\n",
              "    <path d=\"M18.56 5.44l.94 2.06.94-2.06 2.06-.94-2.06-.94-.94-2.06-.94 2.06-2.06.94zm-11 1L8.5 8.5l.94-2.06 2.06-.94-2.06-.94L8.5 2.5l-.94 2.06-2.06.94zm10 10l.94 2.06.94-2.06 2.06-.94-2.06-.94-.94-2.06-.94 2.06-2.06.94z\"/><path d=\"M17.41 7.96l-1.37-1.37c-.4-.4-.92-.59-1.43-.59-.52 0-1.04.2-1.43.59L10.3 9.45l-7.72 7.72c-.78.78-.78 2.05 0 2.83L4 21.41c.39.39.9.59 1.41.59.51 0 1.02-.2 1.41-.59l7.78-7.78 2.81-2.81c.8-.78.8-2.07 0-2.86zM5.41 20L4 18.59l7.72-7.72 1.47 1.35L5.41 20z\"/>\n",
              "  </svg>\n",
              "      </button>\n",
              "      \n",
              "  <style>\n",
              "    .colab-df-container {\n",
              "      display:flex;\n",
              "      flex-wrap:wrap;\n",
              "      gap: 12px;\n",
              "    }\n",
              "\n",
              "    .colab-df-convert {\n",
              "      background-color: #E8F0FE;\n",
              "      border: none;\n",
              "      border-radius: 50%;\n",
              "      cursor: pointer;\n",
              "      display: none;\n",
              "      fill: #1967D2;\n",
              "      height: 32px;\n",
              "      padding: 0 0 0 0;\n",
              "      width: 32px;\n",
              "    }\n",
              "\n",
              "    .colab-df-convert:hover {\n",
              "      background-color: #E2EBFA;\n",
              "      box-shadow: 0px 1px 2px rgba(60, 64, 67, 0.3), 0px 1px 3px 1px rgba(60, 64, 67, 0.15);\n",
              "      fill: #174EA6;\n",
              "    }\n",
              "\n",
              "    [theme=dark] .colab-df-convert {\n",
              "      background-color: #3B4455;\n",
              "      fill: #D2E3FC;\n",
              "    }\n",
              "\n",
              "    [theme=dark] .colab-df-convert:hover {\n",
              "      background-color: #434B5C;\n",
              "      box-shadow: 0px 1px 3px 1px rgba(0, 0, 0, 0.15);\n",
              "      filter: drop-shadow(0px 1px 2px rgba(0, 0, 0, 0.3));\n",
              "      fill: #FFFFFF;\n",
              "    }\n",
              "  </style>\n",
              "\n",
              "      <script>\n",
              "        const buttonEl =\n",
              "          document.querySelector('#df-6aac1ee0-596d-4b47-9d85-e97ef0239544 button.colab-df-convert');\n",
              "        buttonEl.style.display =\n",
              "          google.colab.kernel.accessAllowed ? 'block' : 'none';\n",
              "\n",
              "        async function convertToInteractive(key) {\n",
              "          const element = document.querySelector('#df-6aac1ee0-596d-4b47-9d85-e97ef0239544');\n",
              "          const dataTable =\n",
              "            await google.colab.kernel.invokeFunction('convertToInteractive',\n",
              "                                                     [key], {});\n",
              "          if (!dataTable) return;\n",
              "\n",
              "          const docLinkHtml = 'Like what you see? Visit the ' +\n",
              "            '<a target=\"_blank\" href=https://colab.research.google.com/notebooks/data_table.ipynb>data table notebook</a>'\n",
              "            + ' to learn more about interactive tables.';\n",
              "          element.innerHTML = '';\n",
              "          dataTable['output_type'] = 'display_data';\n",
              "          await google.colab.output.renderOutput(dataTable, element);\n",
              "          const docLink = document.createElement('div');\n",
              "          docLink.innerHTML = docLinkHtml;\n",
              "          element.appendChild(docLink);\n",
              "        }\n",
              "      </script>\n",
              "    </div>\n",
              "  </div>\n",
              "  "
            ]
          },
          "metadata": {},
          "execution_count": 39
        }
      ]
    },
    {
      "cell_type": "code",
      "source": [
        "data['Formatted Date']"
      ],
      "metadata": {
        "colab": {
          "base_uri": "https://localhost:8080/"
        },
        "id": "1mkqiWDu5IKP",
        "outputId": "6a4a8199-117a-4578-c576-bb8cc8d76569"
      },
      "execution_count": 40,
      "outputs": [
        {
          "output_type": "execute_result",
          "data": {
            "text/plain": [
              "0       2006-04-01 00:00:00\n",
              "1       2006-04-01 01:00:00\n",
              "2       2006-04-01 02:00:00\n",
              "3       2006-04-01 03:00:00\n",
              "4       2006-04-01 04:00:00\n",
              "                ...        \n",
              "96448   2016-09-09 19:00:00\n",
              "96449   2016-09-09 20:00:00\n",
              "96450   2016-09-09 21:00:00\n",
              "96451   2016-09-09 22:00:00\n",
              "96452   2016-09-09 23:00:00\n",
              "Name: Formatted Date, Length: 96453, dtype: datetime64[ns]"
            ]
          },
          "metadata": {},
          "execution_count": 40
        }
      ]
    },
    {
      "cell_type": "code",
      "source": [
        "data.columns\n"
      ],
      "metadata": {
        "colab": {
          "base_uri": "https://localhost:8080/"
        },
        "id": "N3HpsQkO6bOy",
        "outputId": "d67d2c05-96a8-45b9-8d5d-761df0880537"
      },
      "execution_count": 41,
      "outputs": [
        {
          "output_type": "execute_result",
          "data": {
            "text/plain": [
              "Index(['Formatted Date', 'Summary', 'Precip Type', 'Temperature (C)',\n",
              "       'Apparent Temperature (C)', 'Humidity', 'Wind Speed (km/h)',\n",
              "       'Wind Bearing (degrees)', 'Visibility (km)', 'Loud Cover',\n",
              "       'Pressure (millibars)', 'Daily Summary'],\n",
              "      dtype='object')"
            ]
          },
          "metadata": {},
          "execution_count": 41
        }
      ]
    },
    {
      "cell_type": "code",
      "source": [
        "plt.plot(data['Formatted Date'], data['Temperature (C)'])"
      ],
      "metadata": {
        "colab": {
          "base_uri": "https://localhost:8080/",
          "height": 282
        },
        "id": "gYH1Fn2O7Ecn",
        "outputId": "165934d8-d7fd-4ff9-de56-9db613ac9f0f"
      },
      "execution_count": 42,
      "outputs": [
        {
          "output_type": "execute_result",
          "data": {
            "text/plain": [
              "[<matplotlib.lines.Line2D at 0x7f768c559590>]"
            ]
          },
          "metadata": {},
          "execution_count": 42
        },
        {
          "output_type": "display_data",
          "data": {
            "text/plain": [
              "<Figure size 432x288 with 1 Axes>"
            ],
            "image/png": "[encoded data removed]"
          },
          "metadata": {
            "needs_background": "light"
          }
        }
      ]
    },
    {
      "cell_type": "code",
      "source": [
        "data.Summary.value_counts()"
      ],
      "metadata": {
        "colab": {
          "base_uri": "https://localhost:8080/"
        },
        "id": "TuLZ5UWN7vF8",
        "outputId": "d08e4472-37a1-469a-f8d3-1746fed6faca"
      },
      "execution_count": 43,
      "outputs": [
        {
          "output_type": "execute_result",
          "data": {
            "text/plain": [
              "Partly Cloudy                          31733\n",
              "Mostly Cloudy                          28094\n",
              "Overcast                               16597\n",
              "Clear                                  10890\n",
              "Foggy                                   7148\n",
              "Breezy and Overcast                      528\n",
              "Breezy and Mostly Cloudy                 516\n",
              "Breezy and Partly Cloudy                 386\n",
              "Dry and Partly Cloudy                     86\n",
              "Windy and Partly Cloudy                   67\n",
              "Light Rain                                63\n",
              "Breezy                                    54\n",
              "Windy and Overcast                        45\n",
              "Humid and Mostly Cloudy                   40\n",
              "Drizzle                                   39\n",
              "Breezy and Foggy                          35\n",
              "Windy and Mostly Cloudy                   35\n",
              "Dry                                       34\n",
              "Humid and Partly Cloudy                   17\n",
              "Dry and Mostly Cloudy                     14\n",
              "Rain                                      10\n",
              "Windy                                      8\n",
              "Humid and Overcast                         7\n",
              "Windy and Foggy                            4\n",
              "Windy and Dry                              1\n",
              "Dangerously Windy and Partly Cloudy        1\n",
              "Breezy and Dry                             1\n",
              "Name: Summary, dtype: int64"
            ]
          },
          "metadata": {},
          "execution_count": 43
        }
      ]
    },
    {
      "cell_type": "code",
      "source": [
        "from sklearn.preprocessing import LabelEncoder\n",
        "encoder = LabelEncoder()\n",
        "data['summary'] = encoder.fit_transform(data.Summary)\n",
        "data.drop('Summary', axis=1, inplace=True)"
      ],
      "metadata": {
        "id": "QLCkPm_874Ag"
      },
      "execution_count": 44,
      "outputs": []
    },
    {
      "cell_type": "code",
      "source": [
        "data['Precip Type'] = data['Precip Type'].map({'rain': 1, 'snow': 0})\n"
      ],
      "metadata": {
        "id": "8rD-zz6z9TYp"
      },
      "execution_count": 45,
      "outputs": []
    },
    {
      "cell_type": "code",
      "source": [
        "from sklearn.feature_extraction.text import TfidfVectorizer\n",
        "\n",
        "vec = TfidfVectorizer(max_features= 10)\n",
        "tfidf_data = vec.fit_transform(data['Daily Summary']) "
      ],
      "metadata": {
        "id": "Sc2I7CWs-ftR"
      },
      "execution_count": 46,
      "outputs": []
    },
    {
      "cell_type": "code",
      "source": [
        "tfidf_data.shape"
      ],
      "metadata": {
        "colab": {
          "base_uri": "https://localhost:8080/"
        },
        "id": "I4yH6Xr3P0vE",
        "outputId": "c079a3fb-4eaf-47f9-bd6a-71f97eed4934"
      },
      "execution_count": 47,
      "outputs": [
        {
          "output_type": "execute_result",
          "data": {
            "text/plain": [
              "(96453, 10)"
            ]
          },
          "metadata": {},
          "execution_count": 47
        }
      ]
    },
    {
      "cell_type": "code",
      "source": [
        "tfidf_data = pd.DataFrame(tfidf_data.toarray(), columns = vec.get_feature_names_out())"
      ],
      "metadata": {
        "id": "akbsk9hyS6h-"
      },
      "execution_count": 48,
      "outputs": []
    },
    {
      "cell_type": "code",
      "source": [
        "tfidf_data.shape"
      ],
      "metadata": {
        "colab": {
          "base_uri": "https://localhost:8080/"
        },
        "id": "cuQmJz4QUDjY",
        "outputId": "a6b252a6-1bf1-45ca-e688-2b897ffc2e2c"
      },
      "execution_count": 49,
      "outputs": [
        {
          "output_type": "execute_result",
          "data": {
            "text/plain": [
              "(96453, 10)"
            ]
          },
          "metadata": {},
          "execution_count": 49
        }
      ]
    },
    {
      "cell_type": "code",
      "source": [
        "data.drop('Daily Summary', axis=1, inplace=True)\n"
      ],
      "metadata": {
        "id": "Qt0X0yEnUR2o"
      },
      "execution_count": 50,
      "outputs": []
    },
    {
      "cell_type": "code",
      "source": [
        "ml_data = pd.concat([data, tfidf_data], axis=1)"
      ],
      "metadata": {
        "id": "0Jqd55MdXH0k"
      },
      "execution_count": 51,
      "outputs": []
    },
    {
      "cell_type": "code",
      "source": [
        "# Converting the data to hours of the day and month\n",
        "\n",
        "ml_data['day_or_night'] = ml_data['Formatted Date'].apply(lambda x: 'day' if (x.hour>6) & (x.hour<18) else 'night')"
      ],
      "metadata": {
        "id": "7iNGTTRrXRJS"
      },
      "execution_count": 52,
      "outputs": []
    },
    {
      "cell_type": "code",
      "source": [
        "import calendar\n",
        "ml_data['month_name'] = ml_data['Formatted Date'].apply(lambda x: calendar.month_abbr[x.month])"
      ],
      "metadata": {
        "id": "M-jJX1cGX5ea"
      },
      "execution_count": 54,
      "outputs": []
    },
    {
      "cell_type": "code",
      "source": [
        "ml_data.drop(['Formatted Date', 'Loud Cover'], axis=1, inplace=True)"
      ],
      "metadata": {
        "id": "HLP0wZzfaQ_B"
      },
      "execution_count": 62,
      "outputs": []
    },
    {
      "cell_type": "code",
      "source": [
        "ml_data_dummy = pd.get_dummies(ml_data, drop_first= True)"
      ],
      "metadata": {
        "id": "l1F9my0KYZh3"
      },
      "execution_count": 63,
      "outputs": []
    },
    {
      "cell_type": "code",
      "source": [
        "ml_data.columns"
      ],
      "metadata": {
        "colab": {
          "base_uri": "https://localhost:8080/"
        },
        "id": "Ku2DmDCEYxjz",
        "outputId": "2e07a2b4-77b8-424f-d46c-83289d1af657"
      },
      "execution_count": 64,
      "outputs": [
        {
          "output_type": "execute_result",
          "data": {
            "text/plain": [
              "Index(['Precip Type', 'Temperature (C)', 'Apparent Temperature (C)',\n",
              "       'Humidity', 'Wind Speed (km/h)', 'Wind Bearing (degrees)',\n",
              "       'Visibility (km)', 'Pressure (millibars)', 'summary', 'cloudy', 'day',\n",
              "       'in', 'morning', 'mostly', 'partly', 'starting', 'the', 'throughout',\n",
              "       'until', 'day_or_night', 'month_name'],\n",
              "      dtype='object')"
            ]
          },
          "metadata": {},
          "execution_count": 64
        }
      ]
    },
    {
      "cell_type": "code",
      "source": [
        "ml_data_dummy.plot(kind = 'box')  #To see the outliers in the data"
      ],
      "metadata": {
        "colab": {
          "base_uri": "https://localhost:8080/",
          "height": 338
        },
        "id": "rstQKltoc4o8",
        "outputId": "b8a1643b-e9ca-4fc9-e9ea-786c5d4fdf34"
      },
      "execution_count": 70,
      "outputs": [
        {
          "output_type": "stream",
          "name": "stderr",
          "text": [
            "/usr/local/lib/python3.7/dist-packages/matplotlib/cbook/__init__.py:1376: VisibleDeprecationWarning: Creating an ndarray from ragged nested sequences (which is a list-or-tuple of lists-or-tuples-or ndarrays with different lengths or shapes) is deprecated. If you meant to do this, you must specify 'dtype=object' when creating the ndarray.\n",
            "  X = np.atleast_1d(X.T if isinstance(X, np.ndarray) else np.asarray(X))\n"
          ]
        },
        {
          "output_type": "execute_result",
          "data": {
            "text/plain": [
              "<matplotlib.axes._subplots.AxesSubplot at 0x7f768b85c3d0>"
            ]
          },
          "metadata": {},
          "execution_count": 70
        },
        {
          "output_type": "display_data",
          "data": {
            "text/plain": [
              "<Figure size 432x288 with 1 Axes>"
            ],
            "image/png": "[encoded data removed]"
          },
          "metadata": {
            "needs_background": "light"
          }
        }
      ]
    },
    {
      "cell_type": "code",
      "source": [
        "# ml_data_dummy = ml_data_dummy-ml_data_dummy.min()"
      ],
      "metadata": {
        "id": "QxeecnOgYz39"
      },
      "execution_count": 71,
      "outputs": []
    },
    {
      "cell_type": "code",
      "source": [
        "mean_vec = ml_data_dummy.mean()\n",
        "std_vec = ml_data_dummy.std()"
      ],
      "metadata": {
        "id": "KREoG4GMZECn"
      },
      "execution_count": 72,
      "outputs": []
    },
    {
      "cell_type": "code",
      "source": [
        "standardized_data = (ml_data_dummy-mean_vec)/std_vec"
      ],
      "metadata": {
        "id": "mY6vrA7gZRo6"
      },
      "execution_count": 73,
      "outputs": []
    },
    {
      "cell_type": "code",
      "source": [
        "for col in standardized_data.columns:\n",
        "  median = standardized_data[col].median()\n",
        "  standardized_data[col] = standardized_data[col].apply(lambda x: x if (x<=2) | (x>=-2) else median)"
      ],
      "metadata": {
        "id": "0D0TQHQIcBOj"
      },
      "execution_count": 74,
      "outputs": []
    },
    {
      "cell_type": "code",
      "source": [
        "standardized_data.reset_index(drop = True, inplace= True)"
      ],
      "metadata": {
        "id": "fTrdiCgKeI7F"
      },
      "execution_count": 75,
      "outputs": []
    },
    {
      "cell_type": "code",
      "source": [
        "y = standardized_data['Humidity']"
      ],
      "metadata": {
        "id": "gwuXJXyMeT5y"
      },
      "execution_count": 76,
      "outputs": []
    },
    {
      "cell_type": "code",
      "source": [
        "x = standardized_data[[i for i in standardized_data.columns if i!= 'Humidity']]\n"
      ],
      "metadata": {
        "id": "N7FGvJTceZtU"
      },
      "execution_count": 80,
      "outputs": []
    },
    {
      "cell_type": "code",
      "source": [
        "from sklearn.model_selection import train_test_split\n",
        "x_train, X_test, y_test, Y_test = train_test_split(x, y, test_size = 0.2)"
      ],
      "metadata": {
        "id": "2k9gYkUEkLX9"
      },
      "execution_count": 84,
      "outputs": []
    },
    {
      "cell_type": "code",
      "source": [
        "from sklearn.linear_model import LinearRegression\n",
        "from sklearn.preprocessing import PolynomialFeatures\n",
        "from sklearn.linear_model import Ridge\n",
        "from sklearn.linear_model import Lasso"
      ],
      "metadata": {
        "id": "otPsEuZrenNc"
      },
      "execution_count": 85,
      "outputs": []
    },
    {
      "cell_type": "code",
      "source": [
        "#  instantiate the model\n",
        "\n",
        "model = LinearRegression()\n",
        "\n"
      ],
      "metadata": {
        "id": "9sr2epHvfMWn"
      },
      "execution_count": 86,
      "outputs": []
    },
    {
      "cell_type": "code",
      "source": [],
      "metadata": {
        "id": "umh0OawblU45"
      },
      "execution_count": null,
      "outputs": []
    }
  ]
}
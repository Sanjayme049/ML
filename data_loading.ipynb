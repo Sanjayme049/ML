{
  "nbformat": 4,
  "nbformat_minor": 0,
  "metadata": {
    "colab": {
      "provenance": [],
      "authorship_tag": "ABX9TyOSDNopuWuw62FQPcQwTKI0",
      "include_colab_link": true
    },
    "kernelspec": {
      "name": "python3",
      "display_name": "Python 3"
    },
    "language_info": {
      "name": "python"
    }
  },
  "cells": [
    {
      "cell_type": "markdown",
      "metadata": {
        "id": "view-in-github",
        "colab_type": "text"
      },
      "source": [
        "<a href=\"https://colab.research.google.com/github/Sanjayme049/ML/blob/main/data_loading.ipynb\" target=\"_parent\"><img src=\"https://colab.research.google.com/assets/colab-badge.svg\" alt=\"Open In Colab\"/></a>"
      ]
    },
    {
      "cell_type": "code",
      "execution_count": null,
      "metadata": {
        "id": "xBz76-DdRQQ5"
      },
      "outputs": [],
      "source": [
        "# Neaural Networks\n",
        "\n",
        "# Introduction deep learning by Udacity\n",
        "\n",
        "# ML model always predicts the probablity of one class.\n",
        "\n",
        "# Maximum likelihood estimation- when the product of the probablity increases error decreases.\n",
        "\n",
        "# Cross Entropy = -Summation of i=1 to m(yiln(pi))+(1-yi)ln(1-pi)\n",
        "\n",
        "# cross entropy for multi class classification problem = summantion of 1=1 to n x summantion of j=1 to m y(ij)p(ij)\n",
        "\n",
        "#  A neuron in artificial neural network is equalavent to one logistic regression\n",
        "\n",
        "# Fully connected neural network always expects to be a vector\n",
        "\n",
        "# Neural network needs non linear transformation. Strecting, rotation and bending.\n",
        "\n",
        "#  Stretching & rotation is for lineariity\n",
        "\n",
        "# bending is for non linearity\n",
        "\n",
        "# Introduction to Pytorch- udacity 2 hours\n",
        "# In deep learning to a network we need to pass a data the entire data mulyiple times."
      ]
    },
    {
      "cell_type": "code",
      "source": [
        "pip install torch torchvision torchaudio"
      ],
      "metadata": {
        "colab": {
          "base_uri": "https://localhost:8080/"
        },
        "id": "2jCAgZTxu3dx",
        "outputId": "034f93c7-3dc8-47ab-e3aa-b5100ebc1e50"
      },
      "execution_count": 2,
      "outputs": [
        {
          "output_type": "stream",
          "name": "stdout",
          "text": [
            "Looking in indexes: https://pypi.org/simple, https://us-python.pkg.dev/colab-wheels/public/simple/\n",
            "Requirement already satisfied: torch in /usr/local/lib/python3.7/dist-packages (1.12.1+cu113)\n",
            "Requirement already satisfied: torchvision in /usr/local/lib/python3.7/dist-packages (0.13.1+cu113)\n",
            "Requirement already satisfied: torchaudio in /usr/local/lib/python3.7/dist-packages (0.12.1+cu113)\n",
            "Requirement already satisfied: typing-extensions in /usr/local/lib/python3.7/dist-packages (from torch) (4.1.1)\n",
            "Requirement already satisfied: requests in /usr/local/lib/python3.7/dist-packages (from torchvision) (2.23.0)\n",
            "Requirement already satisfied: numpy in /usr/local/lib/python3.7/dist-packages (from torchvision) (1.21.6)\n",
            "Requirement already satisfied: pillow!=8.3.*,>=5.3.0 in /usr/local/lib/python3.7/dist-packages (from torchvision) (7.1.2)\n",
            "Requirement already satisfied: urllib3!=1.25.0,!=1.25.1,<1.26,>=1.21.1 in /usr/local/lib/python3.7/dist-packages (from requests->torchvision) (1.24.3)\n",
            "Requirement already satisfied: certifi>=2017.4.17 in /usr/local/lib/python3.7/dist-packages (from requests->torchvision) (2022.6.15)\n",
            "Requirement already satisfied: idna<3,>=2.5 in /usr/local/lib/python3.7/dist-packages (from requests->torchvision) (2.10)\n",
            "Requirement already satisfied: chardet<4,>=3.0.2 in /usr/local/lib/python3.7/dist-packages (from requests->torchvision) (3.0.4)\n"
          ]
        }
      ]
    },
    {
      "cell_type": "code",
      "source": [
        "import torch\n",
        "import numpy as np\n",
        "from torch.utils.data import DataLoader\n",
        "from torchvision.datasets import ImageFolder\n",
        "from torchvision import transforms\n",
        "from torchvision.transforms import ToTensor\n",
        "import torch.nn as nn\n",
        "from torchvision import datasets\n",
        "import torch.functional as F\n",
        "import matplotlib.pyplot as plt\n",
        "import random\n",
        "np.random.seed(42)\n",
        "torch.manual_seed(42)\n",
        "random.seed(42)\n",
        "\n"
      ],
      "metadata": {
        "id": "mD99NHtUvr-s"
      },
      "execution_count": 3,
      "outputs": []
    }
  ]
}
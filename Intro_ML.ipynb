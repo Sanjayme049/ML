{
  "nbformat": 4,
  "nbformat_minor": 0,
  "metadata": {
    "colab": {
      "name": "Intro_ML.ipynb",
      "provenance": [],
      "authorship_tag": "ABX9TyNDer8gdgtSCiv6RCBQigdO",
      "include_colab_link": true
    },
    "kernelspec": {
      "name": "python3",
      "display_name": "Python 3"
    },
    "language_info": {
      "name": "python"
    }
  },
  "cells": [
    {
      "cell_type": "markdown",
      "metadata": {
        "id": "view-in-github",
        "colab_type": "text"
      },
      "source": [
        "<a href=\"https://colab.research.google.com/github/Sanjayme049/ML/blob/main/Intro_ML.ipynb\" target=\"_parent\"><img src=\"https://colab.research.google.com/assets/colab-badge.svg\" alt=\"Open In Colab\"/></a>"
      ]
    },
    {
      "cell_type": "code",
      "execution_count": 2,
      "metadata": {
        "id": "ZlQCMokkjXbJ"
      },
      "outputs": [],
      "source": [
        "# in machine learning if number of labels discrete its a clasification problem.\n",
        "# if the labels are continous its regression problem.\n",
        "\n",
        "# Machine learning is broadly categorised into three parts\n",
        "\n",
        "# 1. Supervised(Feature + labels)\n",
        "# 2. Unsupervised(Feature)\n",
        "# 3. reinforcement(reward system)\n",
        "\n",
        "# Regression is a mechanism of identifying patterns.\n",
        "# and patterns are corelation between dependent variable and independent variable."
      ]
    },
    {
      "cell_type": "code",
      "source": [
        ""
      ],
      "metadata": {
        "id": "t6ktl521jvKI"
      },
      "execution_count": null,
      "outputs": []
    }
  ]
}